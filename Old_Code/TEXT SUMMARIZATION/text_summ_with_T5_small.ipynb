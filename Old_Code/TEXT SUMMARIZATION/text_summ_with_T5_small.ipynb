{
 "cells": [
  {
   "cell_type": "code",
   "execution_count": 1,
   "metadata": {},
   "outputs": [],
   "source": [
    "#Import the necessary libraries.\n",
    "import gradio as gr\n",
    "from transformers import pipeline  \n"
   ]
  },
  {
   "cell_type": "code",
   "execution_count": null,
   "metadata": {},
   "outputs": [
    {
     "name": "stdout",
     "output_type": "stream",
     "text": [
      "WARNING:tensorflow:From c:\\Users\\tbord\\anaconda3\\envs\\dev\\lib\\site-packages\\tf_keras\\src\\losses.py:2976: The name tf.losses.sparse_softmax_cross_entropy is deprecated. Please use tf.compat.v1.losses.sparse_softmax_cross_entropy instead.\n",
      "\n"
     ]
    },
    {
     "name": "stderr",
     "output_type": "stream",
     "text": [
      "Device set to use cpu\n"
     ]
    }
   ],
   "source": [
    "#Initialize a text summarization pipeline using the T5-small model.\n",
    "summarizer = pipeline(\"summarization\", model=\"t5-small\")  "
   ]
  },
  {
   "cell_type": "code",
   "execution_count": 3,
   "metadata": {},
   "outputs": [],
   "source": [
    "#Define a function to summarize text. Create error messages for any errors. \n",
    "def summarize_text(input_text, use_file=False, file_path=None):\n",
    "    if use_file:  \n",
    "        if file_path:\n",
    "            try:\n",
    "                with open(file_path, \"r\", encoding=\"utf-8\") as file:  \n",
    "                    text_to_summarize = file.read()\n",
    "            except FileNotFoundError:\n",
    "                return \"Error: File not found.\"\n",
    "            except Exception as e:  \n",
    "                return f\"Error reading file: {e}\"\n",
    "        else:\n",
    "            return \"Error: Please provide a file path.\"\n",
    "    else:\n",
    "        text_to_summarize = input_text  \n",
    "\n",
    "    try:\n",
    "        summary = summarizer(text_to_summarize, max_length=200, min_length=30, do_sample=False) \n",
    "        return summary[0][\"summary_text\"]\n",
    "    except Exception as e:\n",
    "        return f\"Error during summarization: {e}\"\n"
   ]
  },
  {
   "cell_type": "code",
   "execution_count": null,
   "metadata": {},
   "outputs": [],
   "source": [
    "#Define a function to save the summary to a file. Create error messages for any errors.\n",
    "def save_summary_to_file(summary_text, output_filename=\"summary.txt\"):\n",
    "    try:\n",
    "        with open(output_filename, \"w\", encoding=\"utf-8\") as outfile:\n",
    "            outfile.write(summary_text)\n",
    "        return f\"Summary saved to {output_filename}\"\n",
    "    except Exception as e:\n",
    "        return f\"Error saving summary: {e}\"\n",
    "\n"
   ]
  },
  {
   "cell_type": "code",
   "execution_count": 10,
   "metadata": {},
   "outputs": [
    {
     "name": "stdout",
     "output_type": "stream",
     "text": [
      "* Running on local URL:  http://127.0.0.1:7861\n",
      "\n",
      "To create a public link, set `share=True` in `launch()`.\n"
     ]
    },
    {
     "data": {
      "text/html": [
       "<div><iframe src=\"http://127.0.0.1:7861/\" width=\"100%\" height=\"500\" allow=\"autoplay; camera; microphone; clipboard-read; clipboard-write;\" frameborder=\"0\" allowfullscreen></iframe></div>"
      ],
      "text/plain": [
       "<IPython.core.display.HTML object>"
      ]
     },
     "metadata": {},
     "output_type": "display_data"
    },
    {
     "data": {
      "text/plain": []
     },
     "execution_count": 10,
     "metadata": {},
     "output_type": "execute_result"
    },
    {
     "name": "stderr",
     "output_type": "stream",
     "text": [
      "Your max_length is set to 200, but your input_length is only 144. Since this is a summarization task, where outputs shorter than the input are typically wanted, you might consider decreasing max_length manually, e.g. summarizer('...', max_length=72)\n"
     ]
    }
   ],
   "source": [
    "#Use Gradio to create a simple UI for the text summarization model.\n",
    "with gr.Blocks() as demo:\n",
    "    with gr.Row():\n",
    "        text_input = gr.Textbox(label=\"Enter text to summarize\", lines=5)\n",
    "        file_input = gr.File(label=\"Upload .txt file\", file_types=[\".txt\"])\n",
    "        file_path_input = gr.Textbox(label=\"Or, enter the file path\")\n",
    "\n",
    "    with gr.Row():\n",
    "        output_text = gr.Textbox(label=\"Summarized text\", lines=5)\n",
    "\n",
    "    with gr.Row():\n",
    "        save_button = gr.Button(\"Save Summary to File\")\n",
    "        save_message = gr.Textbox(label=\"Save Status\", value=\"\")\n",
    "        btn = gr.Button(\"Summarize\")\n",
    "\n",
    "    def process_inputs(text_input, file_input, file_path_input):\n",
    "        if file_input:  # If a file was uploaded\n",
    "            try:\n",
    "                with open(file_input.name, 'r', encoding='utf-8') as f:\n",
    "                    file_content = f.read()\n",
    "                summary = summarize_text(file_content, use_file=True)\n",
    "                return summary \n",
    "            except Exception as e:\n",
    "                return f\"Error processing uploaded file: {e}\"\n",
    "        elif file_path_input:\n",
    "            summary = summarize_text(\"\", use_file=True, file_path=file_path_input)\n",
    "            return summary\n",
    "        else:\n",
    "            summary = summarize_text(text_input)\n",
    "            return summary\n",
    "\n",
    "    def save_summary(summary_text):\n",
    "        return save_summary_to_file(summary_text)\n",
    "\n",
    "    btn.click(process_inputs, inputs=[text_input, file_input, file_path_input], outputs=output_text)\n",
    "    save_button.click(save_summary, inputs=output_text, outputs=save_message)  # Call save function\n",
    "\n",
    "demo.launch()\n",
    "\n",
    "        "
   ]
  }
 ],
 "metadata": {
  "kernelspec": {
   "display_name": "dev",
   "language": "python",
   "name": "python3"
  },
  "language_info": {
   "codemirror_mode": {
    "name": "ipython",
    "version": 3
   },
   "file_extension": ".py",
   "mimetype": "text/x-python",
   "name": "python",
   "nbconvert_exporter": "python",
   "pygments_lexer": "ipython3",
   "version": "3.10.14"
  }
 },
 "nbformat": 4,
 "nbformat_minor": 2
}
